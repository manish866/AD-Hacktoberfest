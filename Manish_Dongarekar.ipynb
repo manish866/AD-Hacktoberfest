{
  "nbformat": 4,
  "nbformat_minor": 0,
  "metadata": {
    "colab": {
      "name": "Manish_Dongarekar.ipynb",
      "provenance": [],
      "authorship_tag": "ABX9TyPv2jrwVcPqIa9no9JMGTZ6",
      "include_colab_link": true
    },
    "kernelspec": {
      "name": "python3",
      "display_name": "Python 3"
    },
    "language_info": {
      "name": "python"
    }
  },
  "cells": [
    {
      "cell_type": "markdown",
      "metadata": {
        "id": "view-in-github",
        "colab_type": "text"
      },
      "source": [
        "<a href=\"https://colab.research.google.com/github/manish866/AD-Hacktoberfest/blob/main/Manish_Dongarekar.ipynb\" target=\"_parent\"><img src=\"https://colab.research.google.com/assets/colab-badge.svg\" alt=\"Open In Colab\"/></a>"
      ]
    },
    {
      "cell_type": "markdown",
      "source": [
        "Day 1  \n",
        "\n",
        "Intro to \n",
        "data types\n",
        "\n",
        "\n",
        "> Indented block\n",
        "\n",
        "\n",
        "\n"
      ],
      "metadata": {
        "id": "Up580jd_5r2S"
      }
    },
    {
      "cell_type": "code",
      "execution_count": 2,
      "metadata": {
        "colab": {
          "base_uri": "https://localhost:8080/"
        },
        "id": "stLk3xcK5ODn",
        "outputId": "8b9436ea-a1d6-4a93-c5bf-6ea8bea7a9a2"
      },
      "outputs": [
        {
          "output_type": "execute_result",
          "data": {
            "text/plain": [
              "float"
            ]
          },
          "metadata": {},
          "execution_count": 2
        }
      ],
      "source": [
        "type(0.836)"
      ]
    },
    {
      "cell_type": "code",
      "source": [
        "type(\"string\")"
      ],
      "metadata": {
        "colab": {
          "base_uri": "https://localhost:8080/"
        },
        "id": "UzWOdWQS8ZkC",
        "outputId": "8068d67d-173a-4ac2-ef7a-3fde6151e5f1"
      },
      "execution_count": 6,
      "outputs": [
        {
          "output_type": "execute_result",
          "data": {
            "text/plain": [
              "str"
            ]
          },
          "metadata": {},
          "execution_count": 6
        }
      ]
    },
    {
      "cell_type": "markdown",
      "source": [
        "List(Hetrogenious)"
      ],
      "metadata": {
        "id": "V2aKjbdg-KG6"
      }
    },
    {
      "cell_type": "code",
      "source": [
        "li = [\"str\",1,0.835,'m']\n",
        "print(li)"
      ],
      "metadata": {
        "colab": {
          "base_uri": "https://localhost:8080/"
        },
        "id": "XCNVVijW8_W7",
        "outputId": "08e2f903-25b5-4a4b-abf0-1964e24ebc10"
      },
      "execution_count": 8,
      "outputs": [
        {
          "output_type": "stream",
          "name": "stdout",
          "text": [
            "['str', 1, 0.835, 'm']\n"
          ]
        }
      ]
    },
    {
      "cell_type": "markdown",
      "source": [
        "Tuple(Hetrogenious Imutable)"
      ],
      "metadata": {
        "id": "qJ8pAcHd-aQx"
      }
    },
    {
      "cell_type": "code",
      "source": [
        "tu = (\"str\",2,0.2)\n",
        "print(tu)"
      ],
      "metadata": {
        "colab": {
          "base_uri": "https://localhost:8080/"
        },
        "id": "MIN6NUD590HZ",
        "outputId": "5a98fa41-9fcd-4f1a-8556-cd6042a871e0"
      },
      "execution_count": 9,
      "outputs": [
        {
          "output_type": "stream",
          "name": "stdout",
          "text": [
            "('str', 2, 0.2)\n"
          ]
        }
      ]
    },
    {
      "cell_type": "markdown",
      "source": [
        "Dictionary(Key value pair)"
      ],
      "metadata": {
        "id": "JaUHfyS4-WIg"
      }
    },
    {
      "cell_type": "code",
      "source": [
        "d = {\"Name\":\"Manish\",\"roll\":68,\"semester\":\"IV\"}\n",
        "print(d)\n",
        "type(d)"
      ],
      "metadata": {
        "colab": {
          "base_uri": "https://localhost:8080/"
        },
        "id": "IuCIFNzj-CnD",
        "outputId": "35d4f87d-ac87-49b2-ff3a-40193140d8ba"
      },
      "execution_count": 12,
      "outputs": [
        {
          "output_type": "stream",
          "name": "stdout",
          "text": [
            "{'Name': 'Manish', 'roll': 68, 'semester': 'IV'}\n"
          ]
        },
        {
          "output_type": "execute_result",
          "data": {
            "text/plain": [
              "dict"
            ]
          },
          "metadata": {},
          "execution_count": 12
        }
      ]
    },
    {
      "cell_type": "code",
      "source": [
        ""
      ],
      "metadata": {
        "id": "1hW4V9Jh-xm_"
      },
      "execution_count": null,
      "outputs": []
    }
  ]
}